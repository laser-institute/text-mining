{
  "cells": [
    {
      "cell_type": "markdown",
      "metadata": {},
      "source": [
        "---\n",
        "title: \"Assessing High School Students' Machine Learning Literacy\"\n",
        "subtitle: \"TM Lab 3: Case Study\"\n",
        "format: html\n",
        "editor: visual\n",
        "---\n",
        "\n",
        "\n",
        "## Background\n",
        "\n",
        "The rapid advancement of artificial intelligence (AI) and machine learning (ML) technologies has significantly transformed various sectors, from healthcare and finance to education and entertainment. This transformation underscores the necessity of integrating machine learning literacy into educational curricula, particularly at the high school level, to prepare students for a future where AI plays a central role. Efforts have been developed to create K-12 AI and ML curricula. Meanwhile, assessing ML literacy among high school students is becoming increasingly crucial, serving as a key metric to understand how well students grasp these complex subjects.\n",
        "\n",
        "## Research question\n",
        "\n",
        "What are high school students' machine learning literacy before and after participating an AI curriculum?\n",
        "\n",
        "## Install package\n",
        "\n",
        "The **`openai`** package is the official Python client for the OpenAI API, which provides access to OpenAI's models like GPT (Generative Pre-trained Transformer). Developers use this package to integrate OpenAI's AI models into their applications for tasks such as text classification.\n",
        "\n",
        "**`backoff`** is a library that helps in adding retrying logic to Python applications. It's particularly useful when making requests to web services that might be temporarily unavailable or overloaded. By using **`backoff`**, we can automatically retry failed requests using a variety of backoff strategies (e.g., fixed delay, exponential backoff) to gracefully handle intermittent failures and improve the robustness of our applications.\n"
      ],
      "id": "241b4c2b"
    },
    {
      "cell_type": "code",
      "metadata": {},
      "source": [
        "#!pip install openai\n",
        "#!pip install backoff"
      ],
      "id": "ca640194",
      "execution_count": null,
      "outputs": []
    },
    {
      "cell_type": "markdown",
      "metadata": {},
      "source": [
        "Now let's set up a connection to OpenAI's GPT service using the openai library.\n"
      ],
      "id": "e9b207cb"
    },
    {
      "cell_type": "code",
      "metadata": {},
      "source": [
        "import openai\n",
        "from openai import OpenAI\n",
        "gpt_key = \"xxx\" #use your own key\n",
        "client = OpenAI(api_key=gpt_key)"
      ],
      "id": "86383945",
      "execution_count": null,
      "outputs": []
    },
    {
      "cell_type": "markdown",
      "metadata": {},
      "source": [
        "The following code imports the popular data manipulation library **`pandas`** under the alias **`pd`**, which is a common convention. **`pandas`** is commonly used for data analysis and manipulation tasks.\n",
        "\n",
        "Also, it imports the **`tqdm`** library and specifically imports the **`tqdm`** function from it. **`tqdm`** is used to create progress bars in Python, which are useful for tracking the progress of iterative tasks such as loops or data processing operations.\n"
      ],
      "id": "85d7f38b"
    },
    {
      "cell_type": "code",
      "metadata": {},
      "source": [
        "import backoff\n",
        "import time\n",
        "import pandas as pd\n",
        "from tqdm import tqdm"
      ],
      "id": "c640c15f",
      "execution_count": null,
      "outputs": []
    },
    {
      "cell_type": "markdown",
      "metadata": {},
      "source": [
        "Next, let's define a function named **`completions_with_backoff`** that is decorated with the **`@backoff.on_exception`** decorator. This decorator is from the **`backoff`** library and configures a backoff strategy for retrying a function in case it raises a specified exception.\n"
      ],
      "id": "ee164b86"
    },
    {
      "cell_type": "code",
      "metadata": {},
      "source": [
        "@backoff.on_exception(backoff.expo, openai.RateLimitError)\n",
        "def completions_with_backoff(**kwargs):\n",
        "    '''This function will automatically try the api call again if it fails.'''\n",
        "    return client.chat.completions.create(**kwargs)"
      ],
      "id": "c4df82c2",
      "execution_count": null,
      "outputs": []
    },
    {
      "cell_type": "markdown",
      "metadata": {},
      "source": [
        "Now, let's sets up some variables related to the OpenAI GPT model.\n"
      ],
      "id": "003739ef"
    },
    {
      "cell_type": "code",
      "metadata": {},
      "source": [
        "gpt_org = \"org-pF1Od41p8zEN8oeGTSxATXei\"\n",
        "gpt_host = \"https://api.openai.com/v1\"\n",
        "gpt_model = \"gpt-3.5-turbo\"\n",
        "model = gpt_model\n",
        "MAX_TOKENS = 100"
      ],
      "id": "e842864b",
      "execution_count": null,
      "outputs": []
    },
    {
      "cell_type": "markdown",
      "metadata": {},
      "source": [
        "## Load data\n",
        "\n",
        "Next, let's read the dataset and do some initialization.\n"
      ],
      "id": "112c1267"
    },
    {
      "cell_type": "code",
      "metadata": {},
      "source": [
        "DATA_FILENAME = 'ml literacy.csv'\n",
        "df = pd.read_csv(DATA_FILENAME, encoding='utf-8')\n",
        "token_usage = 0 #This initializes a variable token_usage to keep track of the total number of tokens used during the process."
      ],
      "id": "3c7eb77e",
      "execution_count": null,
      "outputs": []
    },
    {
      "cell_type": "markdown",
      "metadata": {},
      "source": [
        "## Zero shot\n",
        "\n",
        "The following loop iterates over each row in the DataFrame df using df.iterrows(). The tqdm function is used to display a progress bar for the loop.\n"
      ],
      "id": "ef1c2123"
    },
    {
      "cell_type": "code",
      "metadata": {},
      "source": [
        "responses = [] #This initializes an empty list to store responses generated from the OpenAI GPT model.\n",
        "\n",
        "for i, row in tqdm(df.iterrows(), total=len(df)):\n",
        "    value = str(row['response']) #Retrieves the value of the 'response' column from the current row and converts it to a string.\n",
        "    \n",
        "    #Constructs a prompt by combining a prefix and the 'response' value from the row.\n",
        "    prefix = \"Based on the student's response provided in:\"\n",
        "    postfix = \"evaluate and return only the student's machine learning literacy level. The assessment should categorize the student into one of the following three levels: novice, intermediate, or advanced.\"\n",
        "    prompt = ' '.join([prefix, value, postfix])\n",
        "\n",
        "    # Creates a list of messages containing the prompt.\n",
        "    messages = [{\"role\": \"user\", \"content\": prompt}] \n",
        "    \n",
        "    #Attempts to generate a completion using the completions_with_backoff function, passing the GPT model, messages, and maximum tokens as arguments.\n",
        "    try:\n",
        "        completion = completions_with_backoff(\n",
        "            model=model,\n",
        "            messages=messages,\n",
        "            max_tokens=MAX_TOKENS\n",
        "        )\n",
        "    except openai.APIError as e:\n",
        "        print('ERROR: while getting accessing API.')\n",
        "        print(f'Failed on item {i}.')\n",
        "        print(e)\n",
        "        print(\"Prompt:\", prompt)\n",
        "        raise e\n",
        "    \n",
        "    #Retrieves the response from the completion and appends it to the responses list.\n",
        "    response = completion.choices[0].message.content\n",
        "    responses.append(response)\n",
        "    \n",
        "    #Updates the token_usage counter with the total tokens used in the completion.\n",
        "    token_usage += completion.usage.total_tokens\n",
        "\n",
        "    # Need to wait to not exceed rate limit\n",
        "    time.sleep(5)"
      ],
      "id": "ada06c5b",
      "execution_count": null,
      "outputs": []
    },
    {
      "cell_type": "markdown",
      "metadata": {},
      "source": [
        "Now, we can write text classification results in a new csv file.\n"
      ],
      "id": "2221fbc1"
    },
    {
      "cell_type": "code",
      "metadata": {},
      "source": [
        "df[\"literacy_llm\"] = responses #Adds a new column named 'literacy_llm' to the DataFrame df and populates it with the responses generated by the GPT model.\n",
        "#df.to_csv(\"modified.csv\") #Writes the modified DataFrame df to a new CSV file named 'modified.csv'."
      ],
      "id": "d05dcabf",
      "execution_count": null,
      "outputs": []
    },
    {
      "cell_type": "markdown",
      "metadata": {},
      "source": [
        "Look at the outcomes of text classification using large language models. Firstly, rather than producing concise assessments of machine learning literacy (i.e., novice, intermediate, and advanced), these models tend to generate extended narratives. Secondly, the accuracy of the results is often questionable. Lastly, there is a noticeable inconsistency, as the model yields varied outcomes upon each execution.\n",
        "\n",
        "To address these issues, we can use more advanced models as well as changing prompts. For example, we can edit the prompt as follows.\n"
      ],
      "id": "845b2d5e"
    },
    {
      "cell_type": "code",
      "metadata": {},
      "source": [
        "responses = [] #This initializes an empty list to store responses generated from the OpenAI GPT model.\n",
        "\n",
        "for i, row in tqdm(df.iterrows(), total=len(df)):\n",
        "    value = str(row['response']) #Retrieves the value of the 'response' column from the current row and converts it to a string.\n",
        "    \n",
        "    #Constructs a prompt by combining a prefix and the 'response' value from the row.\n",
        "    prefix = \"Based on the student's response provided in:\"\n",
        "    \n",
        "    postfix = \"evaluate and return only the student's machine learning literacy level. The assessment should categorize the student into one of the following three levels: novice, intermediate, or advanced. Do not provide any additional commentary or explanation—only specify the level.\"\n",
        "    \n",
        "    prompt = ' '.join([prefix, value, postfix])\n",
        "\n",
        "    # Creates a list of messages containing the prompt.\n",
        "    messages = [{\"role\": \"user\", \"content\": prompt}] \n",
        "    \n",
        "    #Attempts to generate a completion using the completions_with_backoff function, passing the GPT model, messages, and maximum tokens as arguments.\n",
        "    try:\n",
        "        completion = completions_with_backoff(\n",
        "            model=model,\n",
        "            messages=messages,\n",
        "            max_tokens=MAX_TOKENS\n",
        "        )\n",
        "    except openai.APIError as e:\n",
        "        print('ERROR: while getting accessing API.')\n",
        "        print(f'Failed on item {i}.')\n",
        "        print(e)\n",
        "        print(\"Prompt:\", prompt)\n",
        "        raise e\n",
        "    \n",
        "    #Retrieves the response from the completion and appends it to the responses list.\n",
        "    response = completion.choices[0].message.content\n",
        "    responses.append(response)\n",
        "    \n",
        "    #Updates the token_usage counter with the total tokens used in the completion.\n",
        "    token_usage += completion.usage.total_tokens\n",
        "\n",
        "    # Need to wait to not exceed rate limit\n",
        "    time.sleep(5)"
      ],
      "id": "7cdd8d70",
      "execution_count": null,
      "outputs": []
    },
    {
      "cell_type": "markdown",
      "metadata": {},
      "source": [
        "Now, let's take a look at the result.\n"
      ],
      "id": "bdb177ed"
    },
    {
      "cell_type": "code",
      "metadata": {},
      "source": [
        "df[\"literacy_llm\"] = responses"
      ],
      "id": "e366bce2",
      "execution_count": null,
      "outputs": []
    },
    {
      "cell_type": "markdown",
      "metadata": {},
      "source": [
        "The result now only contains the three levels of machine learning literacy. However, the issues of accuracy remain a challenge that needs to be addressed. To improve the accuracy of these classifications, several strategies could be implemented.\n",
        "\n",
        "First, we can provide a definition of the three levels of machine learning literacy directly within the prompt, clearly outlining the characteristics and knowledge expected at the novice, intermediate, and advanced levels. This contextual guidance can assist the model in making more informed and precise assessments by directly comparing the content of the student's response against these definitions.\n",
        "\n",
        "Second, instead of zero-shot, we can employ few-shot learning techniques by providing the model with a few examples of text classified into each of the three levels of machine learning literacy before it makes a prediction. This approach can help the model better understand the context and criteria for each category.\n",
        "\n",
        "Third, employing a \"chain of thought\" prompting strategy can be beneficial. This method involves guiding the model to break down its reasoning process into intermediate steps before arriving at a final classification. By explicitly asking the model to first identify key concepts or skills demonstrated in the student's response and then match these to the criteria defined for novice, intermediate, and advanced levels, we can enhance the model's accuracy in determining the appropriate literacy level. This approach not only aims to improve the precision of the classification but also adds a layer of transparency to how the model reaches its conclusion.\n",
        "\n",
        "Fourth, leveraging an \"assertion\" approach can refine the model's decision-making process. This involves structuring the prompt to encourage the model to make a direct assertion about the student's machine learning literacy level based on evidence found in the response. By prompting the model to state its conclusion as an assertion and then justify it with specific examples or reasoning from the student's text, the process becomes more focused and deliberate, potentially increasing the accuracy and reliability of the classification.\n",
        "\n",
        "## Add definition (coding book)\n",
        "\n",
        "Let's experiment with the first strategy and look at the result.\n"
      ],
      "id": "32751c6c"
    },
    {
      "cell_type": "code",
      "metadata": {},
      "source": [
        "responses = [] #This initializes an empty list to store responses generated from the OpenAI GPT model.\n",
        "\n",
        "for i, row in tqdm(df.iterrows(), total=len(df)):\n",
        "    value = str(row['response']) #Retrieves the value of the 'response' column from the current row and converts it to a string.\n",
        "    \n",
        "    #Constructs a prompt by combining a prefix and the 'response' value from the row.\n",
        "    prefix = \"Based on the student's response provided in:\"\n",
        "    \n",
        "    postfix = \"evaluate and return only the student's machine learning literacy level. The assessment should categorize the student into one of the following three levels: novice, intermediate, or advanced. Consider the following definitions for each level to guide your assessment: Novice: The student tends to oversimplify or inaccurately describe machine learning concepts, indicating a lack of depth in their understanding. Intermediate: The student demonstrates a foundational understanding of machine learning operations, showing they grasp the basics but may not delve into complexities; Advanced: The student exhibits a thorough and detailed knowledge of machine learning processes, reflecting a deep understanding that spans beyond foundational concepts. Do not provide any additional commentary or explanation—only specify the level.\"\n",
        "    \n",
        "    prompt = ' '.join([prefix, value, postfix])\n",
        "\n",
        "    # Creates a list of messages containing the prompt.\n",
        "    messages = [{\"role\": \"user\", \"content\": prompt}] \n",
        "    \n",
        "    #Attempts to generate a completion using the completions_with_backoff function, passing the GPT model, messages, and maximum tokens as arguments.\n",
        "    try:\n",
        "        completion = completions_with_backoff(\n",
        "            model=model,\n",
        "            messages=messages,\n",
        "            max_tokens=MAX_TOKENS\n",
        "        )\n",
        "    except openai.APIError as e:\n",
        "        print('ERROR: while getting accessing API.')\n",
        "        print(f'Failed on item {i}.')\n",
        "        print(e)\n",
        "        print(\"Prompt:\", prompt)\n",
        "        raise e\n",
        "    \n",
        "    #Retrieves the response from the completion and appends it to the responses list.\n",
        "    response = completion.choices[0].message.content\n",
        "    responses.append(response)\n",
        "    \n",
        "    #Updates the token_usage counter with the total tokens used in the completion.\n",
        "    token_usage += completion.usage.total_tokens\n",
        "\n",
        "    # Need to wait to not exceed rate limit\n",
        "    time.sleep(5)\n",
        "df[\"literacy_llm_definition\"] = responses"
      ],
      "id": "7390560d",
      "execution_count": null,
      "outputs": []
    },
    {
      "cell_type": "markdown",
      "metadata": {},
      "source": [
        "## One shot and chain of thought\n",
        "\n",
        "Adding definition does not result in better accuracy. This could be due to several factors, including the model's inherent limitations in interpreting and applying nuanced definitions to varied responses, or the possibility that the definitions themselves are not distinct enough for the model to differentiate clearly between levels. Let's experiment with the second and third strategy and look at the result.\n"
      ],
      "id": "9edbb0f7"
    },
    {
      "cell_type": "code",
      "metadata": {},
      "source": [
        "responses = [] #This initializes an empty list to store responses generated from the OpenAI GPT model.\n",
        "\n",
        "for i, row in tqdm(df.iterrows(), total=len(df)):\n",
        "    value = str(row['response']) #Retrieves the value of the 'response' column from the current row and converts it to a string.\n",
        "    \n",
        "    #Constructs a prompt by combining a prefix and the 'response' value from the row.\n",
        "    prefix = \"Based on the student's response provided in:\"\n",
        "    \n",
        "    # Define the base instructions\n",
        "    instructions = (\n",
        "        \"Evaluate and return only the student's machine learning literacy level. \"\n",
        "        \"The assessment should categorize the student into one of the following three levels: \"\n",
        "        \"novice, intermediate, or advanced.\"\n",
        "    )\n",
        "    \n",
        "    # Define the example and chain of thought for novice level\n",
        "    novice_example = (\n",
        "        \"Novice: 'Machine learning is kind of intelligence where computers learn on their own.'\"\n",
        "    )\n",
        "    chain_of_thought = (\n",
        "        \"Chain of Thought: In this example, the student's description of machine learning \"\n",
        "        \"focuses on a broad, generalized understanding without delving into specifics about how \"\n",
        "        \"machine learning algorithms work or are applied. The emphasis on 'intelligence' and \"\n",
        "        \"'learning on their own' suggests a lack of detailed knowledge about the processes and \"\n",
        "        \"techniques involved in machine learning, which is characteristic of a novice level of understanding.\"\n",
        "    )\n",
        "    \n",
        "    # Define the reminder\n",
        "    reminder = (\n",
        "        \"Remember, your task is to specify the literacy level as either \"\n",
        "        \"novice, intermediate, or advanced without adding any additional commentary or explanation.\"\n",
        "    )\n",
        "    \n",
        "    # Combine all parts into the final postfix message\n",
        "    postfix = f\"{instructions} To guide your evaluation, consider the following example and the associated chain of thought process: {novice_example} {chain_of_thought} {reminder}\"\n",
        "            \n",
        "    prompt = ' '.join([prefix, value, postfix])\n",
        "\n",
        "    # Creates a list of messages containing the prompt.\n",
        "    messages = [{\"role\": \"user\", \"content\": prompt}] \n",
        "    \n",
        "    #Attempts to generate a completion using the completions_with_backoff function, passing the GPT model, messages, and maximum tokens as arguments.\n",
        "    try:\n",
        "        completion = completions_with_backoff(\n",
        "            model=model,\n",
        "            messages=messages,\n",
        "            max_tokens=MAX_TOKENS\n",
        "        )\n",
        "    except openai.APIError as e:\n",
        "        print('ERROR: while getting accessing API.')\n",
        "        print(f'Failed on item {i}.')\n",
        "        print(e)\n",
        "        print(\"Prompt:\", prompt)\n",
        "        raise e\n",
        "    \n",
        "    #Retrieves the response from the completion and appends it to the responses list.\n",
        "    response = completion.choices[0].message.content\n",
        "    responses.append(response)\n",
        "    \n",
        "    #Updates the token_usage counter with the total tokens used in the completion.\n",
        "    token_usage += completion.usage.total_tokens\n",
        "\n",
        "    # Need to wait to not exceed rate limit\n",
        "    time.sleep(5)\n",
        "df[\"literacy_llm_oneshotcot\"] = responses"
      ],
      "id": "a02c342b",
      "execution_count": null,
      "outputs": []
    },
    {
      "cell_type": "markdown",
      "metadata": {},
      "source": [
        "It's working a bit better. You can see that the prompt becomes longer. Long prompts can provide more detailed guidance, enhancing the model's understanding of the task and potentially improving accuracy. However, they also pose challenges such as increased processing time and the risk of overwhelming the model with too much information, which might detract from its ability to focus on the core aspects of the task. To balance detail with efficiency, it's crucial to ensure that every part of the prompt is directly relevant and structured to lead the model toward the desired outcome without unnecessary complexity.\n",
        "\n",
        "## Good practices for effective prompt engineering\n",
        "\n",
        "Effective prompt engineering is a nuanced art that involves crafting inputs to guide machine learning models, particularly large language models (LLMs), to produce desired outputs with greater accuracy. Here are key practices to consider for successful prompt engineering:\n",
        "\n",
        "1.  **Clarity and Precision**: Ensure your prompts are clear and unambiguous. Use precise language to reduce the model's likelihood of misinterpretation. This involves directly stating what you want the model to do, possibly including the format or structure of the desired response.\n",
        "\n",
        "2.  **Contextual Guidance**: Incorporate enough context to guide the model's response without overwhelming it with information. Context helps the model understand the task better but too much can lead to decreased performance or irrelevant details in the output.\n",
        "\n",
        "3.  **Simplicity and Brevity**: While detail is important, efficiency in communication should not be overlooked. Aim for the sweet spot where the prompt is brief yet comprehensive enough to guide the model effectively. Avoid unnecessary complexity that could confuse both the model and the reader.\n",
        "\n",
        "4.  **Use of Examples**: Including examples within your prompt can significantly improve model performance, especially for tasks that might be open to interpretation. Examples act as direct guidance, showing the model exactly what is expected.\n",
        "\n",
        "5.  **Adaptation and Iteration**: Not all prompts work well on the first try. Be prepared to adapt and iterate your prompts based on the outputs you receive. This might mean refining your language, adding more context, or simplifying the request.\n",
        "\n",
        "6.  **Understanding Model Capabilities**: Tailor your prompts according to the specific strengths and weaknesses of the model you are using. Different models may perform better with different types of prompts based on their training data and architecture.\n",
        "\n",
        "7.  **Ethical Considerations**: Ensure your prompts do not inadvertently guide the model to generate harmful, biased, or sensitive content. Being mindful of the ethical implications of your prompts is crucial for responsible AI use.\n",
        "\n",
        "8.  **Feedback Loops**: Incorporate mechanisms for feedback on the model's outputs. This can involve human review or automated checks to refine prompts further based on performance.\n",
        "\n",
        "9.  **Chain of Thought Prompting**: For complex tasks, guiding the model through a chain of thought can help break down the problem into manageable parts, leading to more accurate and logical outputs.\n",
        "\n",
        "10. **Experimentation**: Finally, effective prompt engineering often involves a degree of experimentation. Testing different prompt styles and structures can help identify what works best for your specific task and model."
      ],
      "id": "8d4092b1"
    }
  ],
  "metadata": {
    "kernelspec": {
      "name": "python3",
      "language": "python",
      "display_name": "Python 3 (ipykernel)",
      "path": "/cloud/project/r-reticulate/share/jupyter/kernels/python3"
    }
  },
  "nbformat": 4,
  "nbformat_minor": 5
}