{
  "cells": [
    {
      "cell_type": "raw",
      "metadata": {},
      "source": [
        "---\n",
        "title: 'Lab 1 Badge: Text Mining Basics'\n",
        "author: Dr. Shiyan Jiang\n",
        "format: html\n",
        "editor: visual\n",
        "---"
      ],
      "id": "e37dd207"
    },
    {
      "cell_type": "markdown",
      "metadata": {},
      "source": [
        "![](img/tmb.png)\n",
        "\n",
        "The final activity for each learning lab provides space to work with data and to reflect on how the concepts and techniques introduced in each lab might apply to your own research.\n",
        "\n",
        "To earn a badge for each lab, you are required to respond to a set of prompts for two parts: \n",
        "\n",
        "-   In Part I, you will reflect on your understanding of key concepts and begin to think about potential next steps for your own study.\n",
        "\n",
        "-   In Part II, you will create a simple data product in Python that demonstrates your ability to apply a data analysis technique introduced in this learning lab.\n",
        "\n",
        "### Part I: Reflect and Plan\n",
        "\n",
        "Use the institutional library (e.g. [NCSU Library](https://www.lib.ncsu.edu/#articles)), [Google Scholar](https://scholar.google.com/) or search engine to locate a research article, presentation, or resource that applies text mining to an educational context or topic of interest. More specifically, **locate a text mining study that visualize text data.**\n",
        "\n",
        "1.  Provide an APA citation for your selected study.\n",
        "\n",
        "    -   \n",
        "\n",
        "2.  How does the visualization address research questions?\n",
        "\n",
        "    -   \n",
        "\n",
        "Draft a research question for a population you may be interested in studying, or that would be of interest to educational researchers, and that would require the collection of text data and answer the following questions:\n",
        "\n",
        "1.  What text data would need to be collected?\n",
        "\n",
        "    -   \n",
        "\n",
        "2.  For what reason would text data need to be collected in order to address this question?\n",
        "\n",
        "    -   \n",
        "\n",
        "3.  Explain the analytical level at which these text data would need to be collected and analyzed.\n",
        "\n",
        "    -   \n",
        "\n",
        "### Part II: Data Product\n",
        "\n",
        "Use your case study file to create a new word cloud that does not include words that would give you important information about teachers' experiences with professional development. (For example, we did not include \"University\" in the word cloud describing where scholar came from as it occurs everywhere).\n",
        "\n",
        "I highly recommend creating a new Python script in your lab-1 folder to complete this task. When your code is ready to share, use the code chunk below to share the final code for your model and answer the questions that follow.\n"
      ],
      "id": "bdfa0d54"
    },
    {
      "cell_type": "code",
      "metadata": {},
      "source": [
        "# YOUR FINAL CODE HERE\n"
      ],
      "id": "2e39db92",
      "execution_count": null,
      "outputs": []
    },
    {
      "cell_type": "markdown",
      "metadata": {},
      "source": [
        "### Knit & Submit\n",
        "\n",
        "Congratulations, you've completed your Intro to text mining Badge! Complete the following steps in the orientation to submit your work for review."
      ],
      "id": "d6c27236"
    }
  ],
  "metadata": {
    "kernelspec": {
      "name": "python3",
      "language": "python",
      "display_name": "Python 3 (ipykernel)"
    }
  },
  "nbformat": 4,
  "nbformat_minor": 5
}